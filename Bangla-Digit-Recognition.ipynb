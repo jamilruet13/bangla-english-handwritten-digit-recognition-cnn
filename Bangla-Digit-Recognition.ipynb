{
 "cells": [
  {
   "cell_type": "markdown",
   "metadata": {
    "_cell_guid": "d93e43c9-8a48-41c7-93f2-1dbeec38f80e",
    "_uuid": "b2538ad6607dc541ad42195df42b3c70ecdd59a3"
   },
   "source": [
    "# Bangla Digit Recognizer "
   ]
  },
  {
   "cell_type": "markdown",
   "metadata": {
    "_cell_guid": "8b668dd4-4ea0-4894-bf75-390f6515286f",
    "_uuid": "56ee22f1b808d3ae49db7543cbc439b3ab964426"
   },
   "source": [
    "In this tutorial we shall go through a bengali digit recognizer model in details. Our model is going to be based on a convolutional neural network (CNN). The focus is to get familiar with the components of a bengali digit recognizer framework. There are three steps in building this digit recognizer, <br>\n",
    "**Step 1 : Process the data.<br>\n",
    "Step 2 : Design the model.<br>\n",
    "Step 3 : Train the model.**"
   ]
  },
  {
   "cell_type": "code",
   "execution_count": 1,
   "metadata": {
    "_cell_guid": "c386cfd1-3d2e-4bd0-b1bf-2c72698afe96",
    "_uuid": "4cdc8ebf9bc167498cace36993800c819556eb04",
    "collapsed": true
   },
   "outputs": [],
   "source": [
    "# Importing necessary libraries\n",
    "import numpy as np\n",
    "import os\n",
    "import glob\n",
    "import cv2\n",
    "import matplotlib.pyplot as plt\n",
    "import pandas as pd\n",
    "import pickle\n",
    "from keras.utils import to_categorical\n",
    "from keras.layers import Dense, Input, Conv2D, Flatten, MaxPooling2D, Activation,Dropout,BatchNormalization\n",
    "from keras.optimizers import Adamax\n",
    "from keras.layers.advanced_activations import LeakyReLU\n",
    "from keras.models import Model\n",
    "from keras.callbacks import ModelCheckpoint\n",
    "from keras import backend as K\n",
    "from __future__ import print_function\n",
    "import keras\n",
    "from keras.models import Sequential\n",
    "from keras.layers import Dense, Activation\n",
    "from keras.utils import to_categorical\n",
    "from keras import backend as k\n",
    "%matplotlib inline\n",
    "import matplotlib.pyplot as plt\n",
    "import numpy as np"
   ]
  },
  {
   "cell_type": "markdown",
   "metadata": {
    "_cell_guid": "49f11a3e-7149-4877-b2d1-46bcc3876d3b",
    "_uuid": "12815b115dcf40bd1d14daa942fbe18dfc330ebf"
   },
   "source": [
    "## Step 1: Process the data"
   ]
  },
  {
   "cell_type": "markdown",
   "metadata": {
    "_cell_guid": "db9ec487-5a21-4289-9b9a-f2649e94955a",
    "_uuid": "5e998f2691200a0019ad2e3940d5acee12e628be"
   },
   "source": [
    "Our dataset comes from six different source."
   ]
  },
  {
   "cell_type": "code",
   "execution_count": 2,
   "metadata": {
    "_cell_guid": "a42ae61e-565e-48ae-b618-370dc4bd3718",
    "_uuid": "8f087bcd8bb6c49f440bd5bea4769ddd692d291e",
    "collapsed": true
   },
   "outputs": [],
   "source": [
    "#Declaring constants\n",
    "FIG_WIDTH=20 # Width of figure\n",
    "HEIGHT_PER_ROW=3 # Height of each row when showing a figure which consists of multiple rows\n",
    "RESIZE_DIM=32 # The images will be resized to 28x28 pixels"
   ]
  },
  {
   "cell_type": "code",
   "execution_count": 3,
   "metadata": {
    "_uuid": "5dfa2840e7fa2af7ca3ff13dcb92308f41caf244",
    "collapsed": true
   },
   "outputs": [],
   "source": [
    "data_dir=os.path.join('..','input')\n",
    "paths_train_a=glob.glob(os.path.join(data_dir,'training-a','*.png'))\n",
    "paths_train_b=glob.glob(os.path.join(data_dir,'training-b','*.png'))\n",
    "paths_train_e=glob.glob(os.path.join(data_dir,'training-e','*.png'))\n",
    "paths_train_c=glob.glob(os.path.join(data_dir,'training-c','*.png'))\n",
    "paths_train_d=glob.glob(os.path.join(data_dir,'training-d','*.png'))\n",
    "paths_train_all=paths_train_a+paths_train_b+paths_train_c+paths_train_d+paths_train_e\n",
    "\n",
    "paths_test_a=glob.glob(os.path.join(data_dir,'testing-a','*.png'))\n",
    "paths_test_b=glob.glob(os.path.join(data_dir,'testing-b','*.png'))\n",
    "paths_test_e=glob.glob(os.path.join(data_dir,'testing-e','*.png'))\n",
    "paths_test_c=glob.glob(os.path.join(data_dir,'testing-c','*.png'))\n",
    "paths_test_d=glob.glob(os.path.join(data_dir,'testing-d','*.png'))\n",
    "paths_test_f=glob.glob(os.path.join(data_dir,'testing-f','*.png'))+glob.glob(os.path.join(data_dir,'testing-f','*.JPG'))\n",
    "paths_test_auga=glob.glob(os.path.join(data_dir,'testing-auga','*.png'))\n",
    "paths_test_augc=glob.glob(os.path.join(data_dir,'testing-augc','*.png'))\n",
    "paths_test_all=paths_test_a+paths_test_b+paths_test_c+paths_test_d+paths_test_e+paths_test_f+paths_test_auga+paths_test_augc\n",
    "\n",
    "path_label_train_a=os.path.join(data_dir,'training-a.csv')\n",
    "path_label_train_b=os.path.join(data_dir,'training-b.csv')\n",
    "path_label_train_e=os.path.join(data_dir,'training-e.csv')\n",
    "path_label_train_c=os.path.join(data_dir,'training-c.csv')\n",
    "path_label_train_d=os.path.join(data_dir,'training-d.csv')"
   ]
  },
  {
   "cell_type": "markdown",
   "metadata": {
    "_cell_guid": "45ef7b96-b4cb-46d5-a092-6eb10775cb3e",
    "_uuid": "5aab8d2c6139e67da8cac46a41b02dd3b0c16c1a"
   },
   "source": [
    "### Image Processing "
   ]
  },
  {
   "cell_type": "markdown",
   "metadata": {
    "_cell_guid": "7ee61a9a-b469-4fae-8770-3981bb601a68",
    "_uuid": "21cd71c9e6faa386a2c5829cf3a3e636b338f280"
   },
   "source": [
    "We shall write some helper functions to process and visualize the images. We will convert color to gray scale image. For better understanding we will unblur the image and make image sharp by using laplacian filter."
   ]
  },
  {
   "cell_type": "code",
   "execution_count": 4,
   "metadata": {
    "_cell_guid": "87d7081d-aa4a-48b9-b1a4-575ceceb2eb3",
    "_uuid": "aa19885280eef5dfed1f8378d668ea7f025a7925",
    "collapsed": true
   },
   "outputs": [],
   "source": [
    "def get_key(path):\n",
    "    # seperates the key of an image from the filepath\n",
    "    key=path.split(sep=os.sep)[-1]\n",
    "    return key\n",
    "\n",
    "def get_data(paths_img,path_label=None,resize_dim=None):\n",
    "    '''reads images from the filepaths, resizes them (if given), and returns them in a numpy array\n",
    "    Args:\n",
    "        paths_img: image filepaths\n",
    "        path_label: pass image label filepaths while processing training data, defaults to None while processing testing data\n",
    "        resize_dim: if given, the image is resized to resize_dim x resize_dim (optional)\n",
    "    Returns:\n",
    "        X: group of images\n",
    "        y: categorical true labels\n",
    "    '''\n",
    "    X=[] # initialize empty list for resized images\n",
    "    for i,path in enumerate(paths_img):\n",
    "        img=cv2.imread(path,cv2.IMREAD_GRAYSCALE) # images loaded in color (BGR)\n",
    "        #ret,img = cv2.threshold(img, 128, 255, cv2.THRESH_BINARY_INV+cv2.THRESH_OTSU)\n",
    "        #img = cv2.bilateralFilter(img,9,75,75)\n",
    "        #img = cv2.medianBlur(img,5)\n",
    "        #img = cv2.fastNlMeansDenoisingColored(img,None,10,10,7,21)\n",
    "        #img=cv2.cvtColor(img,cv2.COLOR_BGR2GRAY) # cnahging colorspace to GRAY\n",
    "        if resize_dim is not None:\n",
    "            img=cv2.resize(img,(resize_dim,resize_dim),interpolation=cv2.INTER_AREA) # resize image to 28x28\n",
    "        #X.append(np.expand_dims(img,axis=2)) # expand image to 28x28x1 and append to the list.\n",
    "        gaussian_3 = cv2.GaussianBlur(img, (9,9), 10.0) #unblur\n",
    "        img = cv2.addWeighted(img, 1.5, gaussian_3, -0.5, 0, img)\n",
    "        kernel = np.array([[-1,-1,-1], [-1,9,-1], [-1,-1,-1]]) #filter\n",
    "        img = cv2.filter2D(img, -1, kernel)\n",
    "        #thresh = 200\n",
    "        #maxValue = 255\n",
    "        #th, img = cv2.threshold(img, thresh, maxValue, cv2.THRESH_BINARY);\n",
    "        #ret,img = cv2.threshold(img, 128, 255, cv2.THRESH_BINARY_INV+cv2.THRESH_OTSU)\n",
    "        X.append(img) # expand image to 28x28x1 and append to the list\n",
    "        # display progress\n",
    "        if i==len(paths_img)-1:\n",
    "            end='\\n'\n",
    "        else: end='\\r'\n",
    "        print('processed {}/{}'.format(i+1,len(paths_img)),end=end)\n",
    "        \n",
    "    X=np.array(X) # tranform list to numpy array\n",
    "    if  path_label is None:\n",
    "        return X\n",
    "    else:\n",
    "        df = pd.read_csv(path_label) # read labels\n",
    "        df=df.set_index('filename') \n",
    "        y_label=[df.loc[get_key(path)]['digit'] for path in  paths_img] # get the labels corresponding to the images\n",
    "        y=to_categorical(y_label,10) # transfrom integer value to categorical variable\n",
    "        return X, y\n",
    "        \n",
    "def imshow_group(X,y,y_pred=None,n_per_row=10,phase='processed'):\n",
    "    '''helper function to visualize a group of images along with their categorical true labels (y) and prediction probabilities.\n",
    "    Args:\n",
    "        X: images\n",
    "        y: categorical true labels\n",
    "        y_pred: predicted class probabilities\n",
    "        n_per_row: number of images per row to be plotted\n",
    "        phase: If the images are plotted after resizing, pass 'processed' to phase argument. \n",
    "            It will plot the image and its true label. If the image is plotted after prediction \n",
    "            phase, pass predicted class probabilities to y_pred and 'prediction' to the phase argument. \n",
    "            It will plot the image, the true label, and it's top 3 predictions with highest probabilities.\n",
    "    '''\n",
    "    n_sample=len(X)\n",
    "    img_dim=X.shape[1]\n",
    "    j=np.ceil(n_sample/n_per_row)\n",
    "    fig=plt.figure(figsize=(FIG_WIDTH,HEIGHT_PER_ROW*j))\n",
    "    for i,img in enumerate(X):\n",
    "        plt.subplot(j,n_per_row,i+1)\n",
    "#         img_sq=np.squeeze(img,axis=2)\n",
    "#         plt.imshow(img_sq,cmap='gray')\n",
    "        plt.imshow(img)\n",
    "        if phase=='processed':\n",
    "            plt.title(np.argmax(y[i]))\n",
    "        if phase=='prediction':\n",
    "            top_n=3 # top 3 predictions with highest probabilities\n",
    "            ind_sorted=np.argsort(y_pred[i])[::-1]\n",
    "            h=img_dim+4\n",
    "            for k in range(top_n):\n",
    "                string='pred: {} ({:.0f}%)\\n'.format(ind_sorted[k],y_pred[i,ind_sorted[k]]*100)\n",
    "                plt.text(img_dim/2, h, string, horizontalalignment='center',verticalalignment='center')\n",
    "                h+=4\n",
    "            if y is not None:\n",
    "                plt.text(img_dim/2, -4, 'true label: {}'.format(np.argmax(y[i])), \n",
    "                         horizontalalignment='center',verticalalignment='center')\n",
    "        plt.axis('off')\n",
    "    plt.show()\n",
    "\n",
    "def create_submission(predictions,keys,path):\n",
    "    result = pd.DataFrame(\n",
    "        predictions,\n",
    "        columns=['label'],\n",
    "        index=keys\n",
    "        )\n",
    "    result.index.name='key'\n",
    "    result.to_csv(path, index=True)"
   ]
  },
  {
   "cell_type": "markdown",
   "metadata": {
    "_cell_guid": "541cbb22-5319-490a-b6a4-8999db770722",
    "_uuid": "01fee24b540458889ebaa9d86b7646e5264e5b1e"
   },
   "source": [
    "Next we are going to use the `get_data()` function to process all the images from dataset "
   ]
  },
  {
   "cell_type": "code",
   "execution_count": 5,
   "metadata": {
    "_uuid": "e4d65fdcac01f5d367ce863d79d22fbbf9b36b86",
    "collapsed": true
   },
   "outputs": [],
   "source": [
    "X_train_a,y_train_a=get_data(paths_train_a,path_label_train_a,resize_dim=RESIZE_DIM)\n",
    "X_train_b,y_train_b=get_data(paths_train_b,path_label_train_b,resize_dim=RESIZE_DIM)\n",
    "X_train_c,y_train_c=get_data(paths_train_c,path_label_train_c,resize_dim=RESIZE_DIM)\n",
    "X_train_d,y_train_d=get_data(paths_train_d,path_label_train_d,resize_dim=RESIZE_DIM)\n",
    "X_train_e,y_train_e=get_data(paths_train_e,path_label_train_e,resize_dim=RESIZE_DIM)"
   ]
  },
  {
   "cell_type": "code",
   "execution_count": 6,
   "metadata": {
    "_cell_guid": "620a40d9-36f8-49fa-b96c-b823999daad0",
    "_uuid": "1d06bb5aaa056f719a918be3206c3f6b2e738e0b",
    "collapsed": true,
    "scrolled": true
   },
   "outputs": [],
   "source": [
    "X_train_all=np.concatenate((X_train_a,X_train_b,X_train_c,X_train_d,X_train_e),axis=0)\n",
    "y_train_all=np.concatenate((y_train_a,y_train_b,y_train_c,y_train_d,y_train_e),axis=0)\n",
    "X_train_all.shape, y_train_all.shape"
   ]
  },
  {
   "cell_type": "code",
   "execution_count": 7,
   "metadata": {
    "_uuid": "ed3a982e1b9ac0b91ae9368c546d0d0447cc5fca",
    "collapsed": true
   },
   "outputs": [],
   "source": [
    "X_show_all=X_train_all"
   ]
  },
  {
   "cell_type": "markdown",
   "metadata": {
    "_cell_guid": "6a2f1c8a-4bdf-4307-b9ea-7841175be203",
    "_uuid": "08f095d0c3ee5f77e811fa1f8046756544f8cce6"
   },
   "source": [
    "Let's see some samples of the processed data. The digits are more sharp now"
   ]
  },
  {
   "cell_type": "code",
   "execution_count": 8,
   "metadata": {
    "_uuid": "e0b3d05de0d4a6d683f8bbf9dcadbecd557d8d7c",
    "collapsed": true
   },
   "outputs": [],
   "source": [
    "plt.subplot(221)\n",
    "plt.imshow(X_train_all[0], cmap=plt.get_cmap('gray'))\n",
    "plt.subplot(222)\n",
    "plt.imshow(X_train_all[1], cmap=plt.get_cmap('gray'))\n",
    "plt.subplot(223)\n",
    "plt.imshow(X_train_all[2], cmap=plt.get_cmap('gray'))\n",
    "plt.subplot(224)\n",
    "plt.imshow(X_train_all[3], cmap=plt.get_cmap('gray'))\n",
    "# show the plot\n",
    "plt.show()"
   ]
  },
  {
   "cell_type": "markdown",
   "metadata": {
    "_uuid": "4a5791e2c7d37e6c230dd8ef5fdfb6f7b592cdb6"
   },
   "source": [
    "Histogram of digit"
   ]
  },
  {
   "cell_type": "code",
   "execution_count": 9,
   "metadata": {
    "_uuid": "c9d6d00dc0cdda91eb8baaecb33b497c4a216385",
    "collapsed": true
   },
   "outputs": [],
   "source": [
    "imgg=X_train_all[1]\n",
    "hist = cv2.calcHist([imgg],[0],None,[256],[0,256])\n",
    "plt.hist(imgg.ravel(),256,[0,256])\n",
    " \n",
    "# show the plotting graph of an image\n",
    "\n",
    "plt.show()"
   ]
  },
  {
   "cell_type": "code",
   "execution_count": 10,
   "metadata": {
    "_uuid": "193edae07f21588132a68d0eed2b1f4646cf8a28",
    "collapsed": true
   },
   "outputs": [],
   "source": [
    "plt.imshow(X_train_all[1])"
   ]
  },
  {
   "cell_type": "code",
   "execution_count": 11,
   "metadata": {
    "_cell_guid": "5930fd41-039e-4385-b753-127a5e3494ce",
    "_uuid": "57a68268499ba8d1d68d6b62d45f6c64a6453d53",
    "collapsed": true
   },
   "outputs": [],
   "source": [
    "X_test_a=get_data(paths_test_a,resize_dim=RESIZE_DIM)\n",
    "X_test_b=get_data(paths_test_b,resize_dim=RESIZE_DIM)\n",
    "X_test_c=get_data(paths_test_c,resize_dim=RESIZE_DIM)\n",
    "X_test_d=get_data(paths_test_d,resize_dim=RESIZE_DIM)\n",
    "X_test_e=get_data(paths_test_e,resize_dim=RESIZE_DIM)\n",
    "X_test_f=get_data(paths_test_f,resize_dim=RESIZE_DIM)\n",
    "X_test_auga=get_data(paths_test_auga,resize_dim=RESIZE_DIM)\n",
    "X_test_augc=get_data(paths_test_augc,resize_dim=RESIZE_DIM)"
   ]
  },
  {
   "cell_type": "code",
   "execution_count": 12,
   "metadata": {
    "_cell_guid": "1b380d90-c66f-42c9-ae97-5103e18a7c7a",
    "_uuid": "a26c04ac67f1c7919dede57707dd11f94d4590cb",
    "collapsed": true,
    "scrolled": true
   },
   "outputs": [],
   "source": [
    "X_test_all=np.concatenate((X_test_a,X_test_b,X_test_c,X_test_d,X_test_e,X_test_f,X_test_auga,X_test_augc))"
   ]
  },
  {
   "cell_type": "code",
   "execution_count": 13,
   "metadata": {
    "_uuid": "e8ef1f0166e80464b15fc7e23c4be85cc92129ed",
    "collapsed": true
   },
   "outputs": [],
   "source": [
    "X_tshow_all=X_test_all\n",
    "X_tshow_all.shape"
   ]
  },
  {
   "cell_type": "markdown",
   "metadata": {
    "_uuid": "050db40f873909fb7eaddc593742560b81bb104f"
   },
   "source": [
    "We will now convert image to 1 color channel"
   ]
  },
  {
   "cell_type": "code",
   "execution_count": 14,
   "metadata": {
    "_uuid": "3a924ec72e3e201ab7fc7a7b14c4285625cc7788",
    "collapsed": true
   },
   "outputs": [],
   "source": [
    "X_train_all = X_train_all.reshape(X_train_all.shape[0],32, 32,1).astype('float32')\n",
    "X_test_all = X_test_all.reshape(X_test_all.shape[0],32, 32,1).astype('float32')"
   ]
  },
  {
   "cell_type": "code",
   "execution_count": 15,
   "metadata": {
    "_uuid": "b6e46f3c07abdc22612a4996ea626f050a9b84d9",
    "collapsed": true
   },
   "outputs": [],
   "source": [
    "X_train_all.shape"
   ]
  },
  {
   "cell_type": "markdown",
   "metadata": {
    "_uuid": "a75a4c52d3ebc246ac7ed01da04a47e4c0c6816e"
   },
   "source": [
    "Normalize data"
   ]
  },
  {
   "cell_type": "code",
   "execution_count": 16,
   "metadata": {
    "_uuid": "f35d6a704e6d1015a2e65a5ca8f66e1aef8afb9b",
    "collapsed": true
   },
   "outputs": [],
   "source": [
    "X_train_all = X_train_all/255\n",
    "X_test_all=X_test_all/255"
   ]
  },
  {
   "cell_type": "markdown",
   "metadata": {
    "_cell_guid": "d32f9092-0d61-4a31-940a-c47bd4a7ab70",
    "_uuid": "100fe511f70f708fe5a9a4a20a423d5cc5fc5d31"
   },
   "source": [
    "Next, we are going to randomly choose 80% of the training data and use it to train our neural network. The remaining 20% images are going to be our validation data."
   ]
  },
  {
   "cell_type": "code",
   "execution_count": 17,
   "metadata": {
    "_cell_guid": "45550d4b-7b11-4277-b968-3cbc74161537",
    "_uuid": "ec1470e959cf087a27d9ca3d349f2f5dd8687528",
    "collapsed": true
   },
   "outputs": [],
   "source": [
    "indices=list(range(len(X_train_all)))\n",
    "np.random.seed(42)\n",
    "np.random.shuffle(indices)\n",
    "\n",
    "ind=int(len(indices)*0.80)\n",
    "# train data\n",
    "X_train=X_train_all[indices[:ind]] \n",
    "y_train=y_train_all[indices[:ind]]\n",
    "# validation data\n",
    "X_val=X_train_all[indices[-(len(indices)-ind):]] \n",
    "y_val=y_train_all[indices[-(len(indices)-ind):]]"
   ]
  },
  {
   "cell_type": "markdown",
   "metadata": {
    "_cell_guid": "32382aae-4756-457e-af68-5fd94603ddfb",
    "_uuid": "ba5d4e25fb97b4afcb84f85c8788da6244afadaf"
   },
   "source": [
    "## Step 2: Design the model"
   ]
  },
  {
   "cell_type": "markdown",
   "metadata": {
    "_cell_guid": "8f3f9cf5-17d0-4b3a-b544-84bee00bf280",
    "_uuid": "52b0f9b0fabc92f87bcd85ca6e04c93df7343ae4"
   },
   "source": []
  },
  {
   "cell_type": "code",
   "execution_count": 18,
   "metadata": {
    "_uuid": "9748e26b1a1cbda489a438723277d7a93abcb3c8",
    "collapsed": true
   },
   "outputs": [],
   "source": [
    "def my_model(img_size=32,channels=1):\n",
    "    model = Sequential()\n",
    "    input_shape = (img_size,img_size,channels)\n",
    "    model.add(Conv2D(32, (5, 5), input_shape=input_shape,activation='relu', padding='same'))\n",
    "    model.add(Conv2D(32, (5, 5), activation='relu', padding='same'))\n",
    "    model.add(BatchNormalization())\n",
    "    model.add(MaxPooling2D(pool_size=(2, 2)))\n",
    "\n",
    "    model.add(Conv2D(128, (3, 3),activation='relu',padding='same'))\n",
    "    model.add(Conv2D(128, (3, 3),activation='relu',padding='same'))\n",
    "    model.add(BatchNormalization())\n",
    "    model.add(MaxPooling2D(pool_size=(2, 2)))\n",
    "\n",
    "    model.add(Conv2D(256, (3, 3),activation='relu',padding='same'))\n",
    "    model.add(Conv2D(256, (3, 3),activation='relu',padding='same'))\n",
    "    model.add(BatchNormalization())\n",
    "    model.add(MaxPooling2D(pool_size=(2, 2)))\n",
    "\n",
    "    model.add(Flatten())\n",
    "    model.add(Dense(64))\n",
    "    model.add(Activation('relu'))\n",
    "    model.add(Dropout(0.2))\n",
    "    model.add(Dense(10))\n",
    "    model.add(Activation('softmax'))\n",
    "    \n",
    "    model.compile(loss='categorical_crossentropy', metrics=['accuracy'],optimizer='adam')\n",
    "    # UNCOMMENT THIS TO VIEW THE ARCHITECTURE\n",
    "    #model.summary()\n",
    "    \n",
    "    return model\n",
    "model=my_model()\n",
    "model.summary()"
   ]
  },
  {
   "cell_type": "markdown",
   "metadata": {
    "_cell_guid": "ee9607d4-40d3-449d-948d-ca743a6f9d77",
    "_uuid": "0b0adac9af387df7adc0cf26954802305849396e"
   },
   "source": [
    "## Step 3: Train the model"
   ]
  },
  {
   "cell_type": "code",
   "execution_count": 19,
   "metadata": {
    "_cell_guid": "7b15bdc9-1794-4eda-9d48-f544be3e382c",
    "_uuid": "f220f61fae1fae8c1cfb2f843300b489937b0090",
    "collapsed": true,
    "scrolled": false
   },
   "outputs": [],
   "source": [
    "path_model='model_filter.h5' # save model at this location after each epoch\n",
    "K.tensorflow_backend.clear_session() # destroys the current graph and builds a new one\n",
    "model=my_model() # create the model\n",
    "K.set_value(model.optimizer.lr,1e-3) # set the learning rate\n",
    "# fit the model\n",
    "h=model.fit(x=X_train,     \n",
    "            y=y_train, \n",
    "            batch_size=64, \n",
    "            epochs=30, \n",
    "            verbose=1, \n",
    "            validation_data=(X_val,y_val),\n",
    "            shuffle=True,\n",
    "            callbacks=[\n",
    "                ModelCheckpoint(filepath=path_model),\n",
    "            ]\n",
    "            )"
   ]
  },
  {
   "cell_type": "markdown",
   "metadata": {
    "_cell_guid": "1862ff7c-a071-4015-bb48-f9670a3112db",
    "_uuid": "d89525da13f845e3417890b968fb5d7753f4e54f"
   },
   "source": [
    " After 30 epochs we have a decent training and valiadation accuracy on dataset."
   ]
  },
  {
   "cell_type": "markdown",
   "metadata": {
    "_cell_guid": "85658a4d-697d-46ef-91cc-e87a8c4c2f89",
    "_uuid": "97b8d77f4c3a692f939ffa94a466dfd257834d5a"
   },
   "source": [
    "## Result Analysis"
   ]
  },
  {
   "cell_type": "markdown",
   "metadata": {
    "_cell_guid": "6b4b108e-4a11-489c-b068-55fecad1ea67",
    "_uuid": "8913f144fc15314e1a98cead1048635bfd758fd0"
   },
   "source": [
    "Let's observe the images by our model."
   ]
  },
  {
   "cell_type": "code",
   "execution_count": 20,
   "metadata": {
    "_cell_guid": "383c8574-c022-4a52-a3d9-f6c7edabc44d",
    "_uuid": "0b019de716cc8c0ab602d2600b590d83e310fb1f",
    "collapsed": true
   },
   "outputs": [],
   "source": [
    "predictions_prob=model.predict(X_test_all) # get predictions for all the test data"
   ]
  },
  {
   "cell_type": "code",
   "execution_count": 21,
   "metadata": {
    "_cell_guid": "d0993d24-b26d-4934-84a0-ac145f4e8594",
    "_uuid": "4822a937ea504052db7b326595866e7a276e0a2a",
    "collapsed": true
   },
   "outputs": [],
   "source": [
    "n_sample=200\n",
    "np.random.seed(42)\n",
    "ind=np.random.randint(0,len(X_test_all), size=n_sample)"
   ]
  },
  {
   "cell_type": "code",
   "execution_count": 22,
   "metadata": {
    "_cell_guid": "9f4260e9-e5e6-4b5e-8565-d5bed1bbc359",
    "_uuid": "2b6ec0f33275de9e2b2a4b0bd12b202f8d067551",
    "collapsed": true
   },
   "outputs": [],
   "source": [
    "imshow_group(X=X_tshow_all[ind],y=None,y_pred=predictions_prob[ind], phase='prediction')"
   ]
  },
  {
   "cell_type": "code",
   "execution_count": 23,
   "metadata": {
    "_cell_guid": "5ac67cd3-11ac-4bb1-9d7a-f60417f45849",
    "_uuid": "6653b48712048170c2f12148c6dfe4988660c02f",
    "collapsed": true
   },
   "outputs": [],
   "source": [
    "labels=[np.argmax(pred) for pred in predictions_prob]"
   ]
  },
  {
   "cell_type": "code",
   "execution_count": 24,
   "metadata": {
    "_uuid": "2dd35d48dc06d1532d165756677e990c1fe8eaa3",
    "collapsed": true
   },
   "outputs": [],
   "source": [
    "keys=[get_key(path) for path in paths_test_all ]"
   ]
  },
  {
   "cell_type": "code",
   "execution_count": 25,
   "metadata": {
    "_uuid": "8fbcfb14dbfe0de631f40ec36bb3e007fdd67ea9",
    "collapsed": true
   },
   "outputs": [],
   "source": [
    "create_submission(predictions=labels,keys=keys,path='cnnsubmission32_final.csv')"
   ]
  },
  {
   "cell_type": "code",
   "execution_count": 26,
   "metadata": {
    "_uuid": "886f58583f4c1e063e7dd2f040a3bef4247f65f9",
    "collapsed": true
   },
   "outputs": [],
   "source": [
    "prediction = pd.read_csv('cnnsubmission32_final.csv')\n",
    "prediction.head(100)"
   ]
  },
  {
   "cell_type": "code",
   "execution_count": 111,
   "metadata": {
    "_uuid": "51e7528de57416eff84e8fa131124d138dc99ea4",
    "collapsed": true
   },
   "outputs": [],
   "source": [
    "#df=pd.read_csv(path_label_train_c,na_filter=False)\n",
    "#df.head(100)"
   ]
  },
  {
   "cell_type": "code",
   "execution_count": 138,
   "metadata": {
    "_uuid": "f1d1ee1fb15f6bba61fd94d4492524fbb32967a0",
    "collapsed": true
   },
   "outputs": [],
   "source": [
    "#y=np.array(df.iloc[:,3:4])\n",
    "#print(y)\n"
   ]
  },
  {
   "cell_type": "code",
   "execution_count": null,
   "metadata": {
    "_uuid": "c68432b931be3671f4c7b501ac1ff4339bbaa745",
    "collapsed": true
   },
   "outputs": [],
   "source": []
  },
  {
   "cell_type": "code",
   "execution_count": null,
   "metadata": {
    "_uuid": "2f3cef391776026ced9f273990934402ce275c92",
    "collapsed": true
   },
   "outputs": [],
   "source": []
  }
 ],
 "metadata": {
  "kernelspec": {
   "display_name": "Python 3",
   "language": "python",
   "name": "python3"
  },
  "language_info": {
   "codemirror_mode": {
    "name": "ipython",
    "version": 3
   },
   "file_extension": ".py",
   "mimetype": "text/x-python",
   "name": "python",
   "nbconvert_exporter": "python",
   "pygments_lexer": "ipython3",
   "version": "3.6.1"
  }
 },
 "nbformat": 4,
 "nbformat_minor": 1
}
